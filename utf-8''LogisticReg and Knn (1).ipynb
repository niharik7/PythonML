{
  "cells": [
    {
      "metadata": {
        "trusted": true
      },
      "cell_type": "code",
      "source": "import numpy as np\nimport pandas as pd\nimport matplotlib.pyplot as plt\nfrom sklearn.metrics import confusion_matrix, classification_report",
      "execution_count": 1,
      "outputs": []
    },
    {
      "metadata": {},
      "cell_type": "markdown",
      "source": "#### PREDICTING A PULSAR STAR using various ML models "
    },
    {
      "metadata": {
        "trusted": true
      },
      "cell_type": "code",
      "source": "pulsar = pd.read_csv('pulsar_stars.csv')\npulsar.head()",
      "execution_count": 2,
      "outputs": [
        {
          "output_type": "execute_result",
          "execution_count": 2,
          "data": {
            "text/html": "<div>\n<style scoped>\n    .dataframe tbody tr th:only-of-type {\n        vertical-align: middle;\n    }\n\n    .dataframe tbody tr th {\n        vertical-align: top;\n    }\n\n    .dataframe thead th {\n        text-align: right;\n    }\n</style>\n<table border=\"1\" class=\"dataframe\">\n  <thead>\n    <tr style=\"text-align: right;\">\n      <th></th>\n      <th>Mean of the integrated profile</th>\n      <th>Standard deviation of the integrated profile</th>\n      <th>Excess kurtosis of the integrated profile</th>\n      <th>Skewness of the integrated profile</th>\n      <th>Mean of the DM-SNR curve</th>\n      <th>Standard deviation of the DM-SNR curve</th>\n      <th>Excess kurtosis of the DM-SNR curve</th>\n      <th>Skewness of the DM-SNR curve</th>\n      <th>target_class</th>\n    </tr>\n  </thead>\n  <tbody>\n    <tr>\n      <th>0</th>\n      <td>140.562500</td>\n      <td>55.683782</td>\n      <td>-0.234571</td>\n      <td>-0.699648</td>\n      <td>3.199833</td>\n      <td>19.110426</td>\n      <td>7.975532</td>\n      <td>74.242225</td>\n      <td>0</td>\n    </tr>\n    <tr>\n      <th>1</th>\n      <td>102.507812</td>\n      <td>58.882430</td>\n      <td>0.465318</td>\n      <td>-0.515088</td>\n      <td>1.677258</td>\n      <td>14.860146</td>\n      <td>10.576487</td>\n      <td>127.393580</td>\n      <td>0</td>\n    </tr>\n    <tr>\n      <th>2</th>\n      <td>103.015625</td>\n      <td>39.341649</td>\n      <td>0.323328</td>\n      <td>1.051164</td>\n      <td>3.121237</td>\n      <td>21.744669</td>\n      <td>7.735822</td>\n      <td>63.171909</td>\n      <td>0</td>\n    </tr>\n    <tr>\n      <th>3</th>\n      <td>136.750000</td>\n      <td>57.178449</td>\n      <td>-0.068415</td>\n      <td>-0.636238</td>\n      <td>3.642977</td>\n      <td>20.959280</td>\n      <td>6.896499</td>\n      <td>53.593661</td>\n      <td>0</td>\n    </tr>\n    <tr>\n      <th>4</th>\n      <td>88.726562</td>\n      <td>40.672225</td>\n      <td>0.600866</td>\n      <td>1.123492</td>\n      <td>1.178930</td>\n      <td>11.468720</td>\n      <td>14.269573</td>\n      <td>252.567306</td>\n      <td>0</td>\n    </tr>\n  </tbody>\n</table>\n</div>",
            "text/plain": "    Mean of the integrated profile  \\\n0                       140.562500   \n1                       102.507812   \n2                       103.015625   \n3                       136.750000   \n4                        88.726562   \n\n    Standard deviation of the integrated profile  \\\n0                                      55.683782   \n1                                      58.882430   \n2                                      39.341649   \n3                                      57.178449   \n4                                      40.672225   \n\n    Excess kurtosis of the integrated profile  \\\n0                                   -0.234571   \n1                                    0.465318   \n2                                    0.323328   \n3                                   -0.068415   \n4                                    0.600866   \n\n    Skewness of the integrated profile   Mean of the DM-SNR curve  \\\n0                            -0.699648                   3.199833   \n1                            -0.515088                   1.677258   \n2                             1.051164                   3.121237   \n3                            -0.636238                   3.642977   \n4                             1.123492                   1.178930   \n\n    Standard deviation of the DM-SNR curve  \\\n0                                19.110426   \n1                                14.860146   \n2                                21.744669   \n3                                20.959280   \n4                                11.468720   \n\n    Excess kurtosis of the DM-SNR curve   Skewness of the DM-SNR curve  \\\n0                              7.975532                      74.242225   \n1                             10.576487                     127.393580   \n2                              7.735822                      63.171909   \n3                              6.896499                      53.593661   \n4                             14.269573                     252.567306   \n\n   target_class  \n0             0  \n1             0  \n2             0  \n3             0  \n4             0  "
          },
          "metadata": {}
        }
      ]
    },
    {
      "metadata": {
        "trusted": true
      },
      "cell_type": "markdown",
      "source": "Split Data using train_test_split"
    },
    {
      "metadata": {
        "trusted": true
      },
      "cell_type": "code",
      "source": "from sklearn.model_selection import train_test_split",
      "execution_count": 3,
      "outputs": []
    },
    {
      "metadata": {},
      "cell_type": "markdown",
      "source": "X contains all the columns except the 'target_class' and y contains only the 'target_class' i.e. the actual existance of the pulsar star"
    },
    {
      "metadata": {
        "trusted": true
      },
      "cell_type": "code",
      "source": "X = pulsar.drop('target_class',axis=1)\ny = pulsar['target_class']",
      "execution_count": 4,
      "outputs": []
    },
    {
      "metadata": {},
      "cell_type": "markdown",
      "source": "train_test_split splits the data into 80% as trainging data that will be fed to the model for training and 20% as test data for which the model predicts the 'target_class'"
    },
    {
      "metadata": {
        "trusted": true
      },
      "cell_type": "code",
      "source": "X_train, X_test, y_train, y_test = train_test_split(X, y, test_size=0.20, random_state=100)",
      "execution_count": 5,
      "outputs": []
    },
    {
      "metadata": {},
      "cell_type": "markdown",
      "source": "### Logistic Regression"
    },
    {
      "metadata": {
        "trusted": true
      },
      "cell_type": "code",
      "source": "from sklearn.linear_model import LogisticRegression",
      "execution_count": 6,
      "outputs": []
    },
    {
      "metadata": {},
      "cell_type": "markdown",
      "source": "Train the model with X_train and y_train data"
    },
    {
      "metadata": {
        "trusted": true
      },
      "cell_type": "code",
      "source": "logm = LogisticRegression()\nlogm.fit(X_train,y_train)\npred = logm.predict(X_test)",
      "execution_count": 7,
      "outputs": [
        {
          "output_type": "stream",
          "text": "/home/nbuser/anaconda3_501/lib/python3.6/site-packages/sklearn/linear_model/logistic.py:433: FutureWarning: Default solver will be changed to 'lbfgs' in 0.22. Specify a solver to silence this warning.\n  FutureWarning)\n",
          "name": "stderr"
        }
      ]
    },
    {
      "metadata": {
        "trusted": true
      },
      "cell_type": "code",
      "source": "print(classification_report(y_test,pred))",
      "execution_count": 8,
      "outputs": [
        {
          "output_type": "stream",
          "text": "              precision    recall  f1-score   support\n\n           0       0.99      0.99      0.99      3260\n           1       0.93      0.85      0.89       320\n\n   micro avg       0.98      0.98      0.98      3580\n   macro avg       0.96      0.92      0.94      3580\nweighted avg       0.98      0.98      0.98      3580\n\n",
          "name": "stdout"
        }
      ]
    },
    {
      "metadata": {
        "trusted": true
      },
      "cell_type": "code",
      "source": "print(confusion_matrix(y_test,pred))",
      "execution_count": 9,
      "outputs": [
        {
          "output_type": "stream",
          "text": "[[3240   20]\n [  47  273]]\n",
          "name": "stdout"
        }
      ]
    },
    {
      "metadata": {},
      "cell_type": "markdown",
      "source": "### KNN"
    },
    {
      "metadata": {
        "trusted": true
      },
      "cell_type": "code",
      "source": "from sklearn.neighbors import KNeighborsClassifier",
      "execution_count": 10,
      "outputs": []
    },
    {
      "metadata": {
        "trusted": true
      },
      "cell_type": "code",
      "source": "knn = KNeighborsClassifier(n_neighbors=12)\nknn.fit(X_train,y_train)\nkpred = knn.predict(X_test)",
      "execution_count": 11,
      "outputs": []
    },
    {
      "metadata": {
        "trusted": true
      },
      "cell_type": "code",
      "source": "print(classification_report(y_test,kpred))\nprint('\\n')\nprint(confusion_matrix(y_test,kpred))",
      "execution_count": 12,
      "outputs": [
        {
          "output_type": "stream",
          "text": "              precision    recall  f1-score   support\n\n           0       0.98      0.99      0.99      3260\n           1       0.94      0.81      0.87       320\n\n   micro avg       0.98      0.98      0.98      3580\n   macro avg       0.96      0.90      0.93      3580\nweighted avg       0.98      0.98      0.98      3580\n\n\n\n[[3243   17]\n [  61  259]]\n",
          "name": "stdout"
        }
      ]
    },
    {
      "metadata": {
        "trusted": true
      },
      "cell_type": "code",
      "source": "error = []\nfor i in range(1,50):\n    knn = KNeighborsClassifier(n_neighbors=i)\n    knn.fit(X_train,y_train)\n    ipred = knn.predict(X_test)\n    error.append(np.mean(ipred != y_test))",
      "execution_count": 13,
      "outputs": []
    },
    {
      "metadata": {
        "trusted": true
      },
      "cell_type": "code",
      "source": "plt.figure(figsize=(15,5))\nplt.plot(range(1,50),error,color='orange',marker='o',markerfacecolor='purple')",
      "execution_count": 14,
      "outputs": [
        {
          "output_type": "execute_result",
          "execution_count": 14,
          "data": {
            "text/plain": "[<matplotlib.lines.Line2D at 0x7f9471909198>]"
          },
          "metadata": {}
        },
        {
          "output_type": "display_data",
          "data": {
            "image/png": "[encoded data removed]",
            "text/plain": "<Figure size 1080x360 with 1 Axes>"
          },
          "metadata": {
            "needs_background": "light"
          }
        }
      ]
    },
    {
      "metadata": {},
      "cell_type": "markdown",
      "source": "### Decision Tree Classifier"
    },
    {
      "metadata": {
        "trusted": true
      },
      "cell_type": "code",
      "source": "from sklearn.tree import DecisionTreeClassifier ",
      "execution_count": 15,
      "outputs": []
    },
    {
      "metadata": {
        "trusted": true
      },
      "cell_type": "code",
      "source": "dtree = DecisionTreeClassifier()\ndtree.fit(X_train,y_train)\ndpred = dtree.predict(X_test)",
      "execution_count": 16,
      "outputs": []
    },
    {
      "metadata": {
        "trusted": true
      },
      "cell_type": "code",
      "source": "print(classification_report(y_test,dpred))\nprint('\\n')\nprint(confusion_matrix(y_test,dpred))",
      "execution_count": 17,
      "outputs": [
        {
          "output_type": "stream",
          "text": "              precision    recall  f1-score   support\n\n           0       0.98      0.98      0.98      3260\n           1       0.81      0.82      0.82       320\n\n   micro avg       0.97      0.97      0.97      3580\n   macro avg       0.90      0.90      0.90      3580\nweighted avg       0.97      0.97      0.97      3580\n\n\n\n[[3199   61]\n [  57  263]]\n",
          "name": "stdout"
        }
      ]
    },
    {
      "metadata": {},
      "cell_type": "markdown",
      "source": "### Random Forest Classifier"
    },
    {
      "metadata": {
        "trusted": true
      },
      "cell_type": "code",
      "source": "from sklearn.ensemble import RandomForestClassifier",
      "execution_count": 18,
      "outputs": []
    },
    {
      "metadata": {
        "trusted": true
      },
      "cell_type": "code",
      "source": "rfc = RandomForestClassifier(n_estimators=50)\nrfc.fit(X_train,y_train)\nrfcpred = rfc.predict(X_test)",
      "execution_count": 19,
      "outputs": []
    },
    {
      "metadata": {
        "trusted": true
      },
      "cell_type": "code",
      "source": "print(classification_report(y_test,rfcpred))\nprint('\\n')\nprint(confusion_matrix(y_test,rfcpred))",
      "execution_count": 20,
      "outputs": [
        {
          "output_type": "stream",
          "text": "              precision    recall  f1-score   support\n\n           0       0.99      0.99      0.99      3260\n           1       0.93      0.87      0.90       320\n\n   micro avg       0.98      0.98      0.98      3580\n   macro avg       0.96      0.93      0.94      3580\nweighted avg       0.98      0.98      0.98      3580\n\n\n\n[[3238   22]\n [  42  278]]\n",
          "name": "stdout"
        }
      ]
    }
  ],
  "metadata": {
    "kernelspec": {
      "name": "python36",
      "display_name": "Python 3.6",
      "language": "python"
    },
    "language_info": {
      "mimetype": "text/x-python",
      "nbconvert_exporter": "python",
      "name": "python",
      "pygments_lexer": "ipython3",
      "version": "3.6.6",
      "file_extension": ".py",
      "codemirror_mode": {
        "version": 3,
        "name": "ipython"
      }
    }
  },
  "nbformat": 4,
  "nbformat_minor": 2
}